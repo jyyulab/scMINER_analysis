{
 "cells": [
  {
   "cell_type": "markdown",
   "id": "4337bd61-e9c1-4eb8-9a00-2922ba2b0716",
   "metadata": {},
   "source": [
    "# ARI with sweeping dimension reduction components and Louvain resolution"
   ]
  },
  {
   "cell_type": "code",
   "execution_count": 1,
   "id": "2449ac63-5fc0-4066-aac1-b03949ec3a65",
   "metadata": {},
   "outputs": [],
   "source": [
    "import sys, os\n",
    "import glob\n",
    "import shutil\n",
    "\n",
    "import pandas as pd\n",
    "import numpy as np\n",
    "\n",
    "from sklearn.metrics import (silhouette_score, silhouette_samples,   \n",
    "                             adjusted_rand_score, adjusted_mutual_info_score,   \n",
    "                             normalized_mutual_info_score)\n",
    "pd.set_option('display.max_colwidth', None)"
   ]
  },
  {
   "cell_type": "code",
   "execution_count": 7,
   "id": "d12f983a-63b1-4c29-8d37-776b99632358",
   "metadata": {},
   "outputs": [],
   "source": [
    "pred_label_root = './'\n",
    "true_label_root = '../../../../Dataset/scMINER_13datasets_h5ad_input_true_label/'"
   ]
  },
  {
   "cell_type": "code",
   "execution_count": 8,
   "id": "d7805206-a568-4c74-9ba2-fbd17ecb8146",
   "metadata": {},
   "outputs": [],
   "source": [
    "def eval_pred_label(true_label_df,pred_files,component):\n",
    "    eval_df = []\n",
    "    for each_file in pred_files:\n",
    "        louvain_res = each_file.split('_')[-1]\n",
    "        louvain_res = float(louvain_res.split('.txt')[0])\n",
    "        #louvain_res = np.round(np.log(louvain_res),1)\n",
    "        \n",
    "        pred_df = pd.read_table(each_file)\n",
    "        \n",
    "        merge_df = pred_df.merge(true_label_df,left_on = 'ID',right_on='cell', how='inner') \n",
    "        #print(merge_df)\n",
    "        #break\n",
    "    \n",
    "        pred_k = len(set(merge_df['label']))\n",
    "        #print(pred_k)\n",
    "        #break\n",
    "        ARI = np.round(adjusted_rand_score(merge_df['true_label'],merge_df['label']),3)\n",
    "\n",
    "        eval_df.append([component,louvain_res,pred_k,ARI])\n",
    "    \n",
    "    return eval_df"
   ]
  },
  {
   "cell_type": "code",
   "execution_count": 9,
   "id": "ab1585eb-cc74-43c0-8300-e320db92d63b",
   "metadata": {},
   "outputs": [],
   "source": [
    "for folder in glob.glob(pred_label_root+'*/'):\n",
    "    dataset = folder.split('/')[1]\n",
    "    #print(dataset)\n",
    "\n",
    "    # true label\n",
    "    true_label_file = glob.glob(true_label_root + dataset+ '*true_label.txt')[0]\n",
    "    #print(true_label_file)\n",
    "    true_label_df = pd.read_table(true_label_file)\n",
    "\n",
    "    summary_df = []\n",
    "    for folder in glob.glob(pred_label_root + dataset + '/'+ dataset + '*/'):\n",
    "        #print(folder)\n",
    "        #break\n",
    "        component = int(folder.split('_')[-1][:-1])\n",
    "        #print(component)\n",
    "        #break\n",
    "        pred_files = glob.glob(folder + 'clustering*.txt')\n",
    "        #print(pred_files)\n",
    "        #break\n",
    "        eval_df = eval_pred_label(true_label_df,pred_files,component)\n",
    "        #eval_df = pd.DataFrame(eval_df)\n",
    "        #print(eval_df)\n",
    "        \n",
    "        summary_df.extend(eval_df)\n",
    "    \n",
    "    summary_df = pd.DataFrame(summary_df)\n",
    "    summary_df.rename(columns = {0:'component',1:'louvain_res',2:'pred_k',3:'ARI'},inplace=True)\n",
    "    summary_df.to_csv(dataset + '_scMINER_sweep_component_summary.csv',sep='\\t')\n",
    "\n",
    "    #break"
   ]
  },
  {
   "cell_type": "code",
   "execution_count": null,
   "id": "d876d8ef-978a-4fb8-b700-eeae2ae76278",
   "metadata": {},
   "outputs": [],
   "source": []
  }
 ],
 "metadata": {
  "kernelspec": {
   "display_name": "Python 3 (ipykernel)",
   "language": "python",
   "name": "python3"
  },
  "language_info": {
   "codemirror_mode": {
    "name": "ipython",
    "version": 3
   },
   "file_extension": ".py",
   "mimetype": "text/x-python",
   "name": "python",
   "nbconvert_exporter": "python",
   "pygments_lexer": "ipython3",
   "version": "3.8.17"
  }
 },
 "nbformat": 4,
 "nbformat_minor": 5
}
